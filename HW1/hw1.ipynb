{
 "cells": [
  {
   "cell_type": "code",
   "execution_count": 1,
   "metadata": {
    "scrolled": true
   },
   "outputs": [
    {
     "name": "stderr",
     "output_type": "stream",
     "text": [
      "Building prefix dict from the default dictionary ...\n",
      "Loading model from cache /var/folders/k1/64vpfb157j3_w7pd2w8c61m80000gn/T/jieba.cache\n",
      "Loading model cost 0.667 seconds.\n",
      "Prefix dict has been built successfully.\n"
     ]
    }
   ],
   "source": [
    "import jieba\n",
    "import matplotlib as plt\n",
    "txt = open(\"hw1-dataset.txt\", encoding=\"utf-8\").read()  \n",
    "#加載停用詞表  \n",
    "stopwords = [line.strip() for line in open(\"hw1-stopset.txt\",encoding=\"utf-8\").readlines()]  \n",
    "words  = jieba.lcut(txt)  \n",
    "counts = {}  \n",
    "for word in words:  \n",
    "    #不在停用詞表中  \n",
    "    if word not in stopwords:  \n",
    "        #不統計字數爲一的詞  \n",
    "        if len(word) == 1:  \n",
    "            continue  \n",
    "        else:  \n",
    "            counts[word] = counts.get(word,0) + 1  \n",
    "items = list(counts.items())  \n",
    "items.sort(key=lambda x:x[1], reverse=True)"
   ]
  },
  {
   "cell_type": "code",
   "execution_count": 2,
   "metadata": {},
   "outputs": [
    {
     "name": "stdout",
     "output_type": "stream",
     "text": [
      "八卦          79119\n",
      "台灣          35851\n",
      "肥宅          21771\n",
      "真的          16890\n",
      "一個          10535\n",
      "中國          10230\n",
      "一堆          10098\n",
      "有人           9666\n",
      "女生           8630\n",
      "日本           8594\n",
      "到底           8471\n",
      "...          7547\n",
      "很多           7488\n",
      "喜歡           6782\n",
      "朋友           6303\n",
      "感覺           6147\n",
      "美國           5358\n",
      "不用           5230\n",
      "正妹           4833\n",
      "東西           4368\n",
      "台北           4288\n",
      "QQ           3990\n",
      "時間           3965\n",
      "妹妹           3812\n",
      "世界           3792\n",
      "沒人           3725\n",
      "發現           3559\n",
      "中國人          3554\n",
      "國家           3554\n",
      "不到           3494\n",
      "工作           3483\n",
      "男生           3323\n",
      "好吃           3320\n",
      "公司           3199\n",
      "老婆           3157\n",
      "女友           3146\n",
      "老師           2943\n",
      "大學           2937\n",
      "邊緣           2807\n",
      "南部           2744\n",
      "好像           2712\n",
      "遊戲           2690\n",
      "第一           2640\n",
      "手機           2595\n",
      "垃圾           2587\n",
      "一點           2587\n",
      "只能           2536\n",
      "別人           2533\n",
      "才能           2533\n",
      "10           2503\n",
      "小孩           2435\n",
      "還好           2394\n",
      "電影           2378\n",
      "新聞           2378\n",
      "還要           2375\n",
      "韓國           2370\n",
      "鄉民           2360\n",
      "XD           2285\n",
      "的掛           2237\n",
      "地方           2193\n",
      "..           2151\n",
      "有加           2112\n",
      "ptt          2110\n",
      "工具           2097\n",
      "英文           2085\n",
      "最強           2071\n",
      "警察           2067\n",
      "明天           2028\n",
      "不好           2026\n",
      "不想           2012\n",
      "多久           2006\n",
      "請問           1996\n",
      "結婚           1974\n",
      "機會           1967\n",
      "高中           1956\n",
      "上班           1956\n",
      "高雄           1948\n",
      "兩個           1947\n",
      "怎辦           1936\n",
      "搞頭           1933\n",
      "支持           1932\n",
      "畢業           1932\n",
      "學校           1917\n",
      "女森           1906\n",
      "人生           1898\n",
      "名字           1891\n",
      "那種           1883\n",
      "大概           1878\n",
      "不錯           1874\n",
      "記得           1873\n",
      "學生           1867\n",
      "算是           1843\n",
      "有什麼          1837\n",
      "人類           1826\n",
      "這是           1811\n",
      "PTT          1789\n",
      "還在           1771\n",
      "希望           1769\n",
      "代表           1768\n",
      "妹子           1756\n"
     ]
    },
    {
     "ename": "AttributeError",
     "evalue": "module 'matplotlib' has no attribute 'plot'",
     "output_type": "error",
     "traceback": [
      "\u001b[0;31m---------------------------------------------------------------------------\u001b[0m",
      "\u001b[0;31mAttributeError\u001b[0m                            Traceback (most recent call last)",
      "\u001b[0;32m<ipython-input-2-6a3ef98cad19>\u001b[0m in \u001b[0;36m<module>\u001b[0;34m\u001b[0m\n\u001b[1;32m      8\u001b[0m     \u001b[0mindex\u001b[0m\u001b[0;34m=\u001b[0m\u001b[0mrange\u001b[0m\u001b[0;34m(\u001b[0m\u001b[0;36m100\u001b[0m\u001b[0;34m)\u001b[0m\u001b[0;34m\u001b[0m\u001b[0;34m\u001b[0m\u001b[0m\n\u001b[1;32m      9\u001b[0m     \u001b[0mprint\u001b[0m \u001b[0;34m(\u001b[0m\u001b[0;34m\"{:<10}{:>7}\"\u001b[0m\u001b[0;34m.\u001b[0m\u001b[0mformat\u001b[0m\u001b[0;34m(\u001b[0m\u001b[0mx\u001b[0m\u001b[0;34m,\u001b[0m \u001b[0my\u001b[0m\u001b[0;34m,\u001b[0m \u001b[0mlinestyle\u001b[0m\u001b[0;34m=\u001b[0m\u001b[0;34m\". -\"\u001b[0m\u001b[0;34m)\u001b[0m \u001b[0;34m)\u001b[0m\u001b[0;34m\u001b[0m\u001b[0;34m\u001b[0m\u001b[0m\n\u001b[0;32m---> 10\u001b[0;31m \u001b[0mplt\u001b[0m\u001b[0;34m.\u001b[0m\u001b[0mplot\u001b[0m\u001b[0;34m(\u001b[0m\u001b[0mindex\u001b[0m\u001b[0;34m,\u001b[0m\u001b[0mcount\u001b[0m\u001b[0;34m)\u001b[0m \u001b[0;31m#畫線\u001b[0m\u001b[0;34m\u001b[0m\u001b[0;34m\u001b[0m\u001b[0m\n\u001b[0m\u001b[1;32m     11\u001b[0m \u001b[0mplt\u001b[0m\u001b[0;34m.\u001b[0m\u001b[0mxlabel\u001b[0m\u001b[0;34m(\u001b[0m\u001b[0;34m'No.'\u001b[0m\u001b[0;34m)\u001b[0m \u001b[0;31m# 設定x軸標題\u001b[0m\u001b[0;34m\u001b[0m\u001b[0;34m\u001b[0m\u001b[0m\n\u001b[1;32m     12\u001b[0m \u001b[0mplt\u001b[0m\u001b[0;34m.\u001b[0m\u001b[0mylabel\u001b[0m\u001b[0;34m(\u001b[0m\u001b[0;34m'Occurrences'\u001b[0m\u001b[0;34m)\u001b[0m \u001b[0;31m# 設定y軸標題\u001b[0m\u001b[0;34m\u001b[0m\u001b[0;34m\u001b[0m\u001b[0m\n",
      "\u001b[0;31mAttributeError\u001b[0m: module 'matplotlib' has no attribute 'plot'"
     ]
    }
   ],
   "source": [
    "#切開來可以防止 import有誤 跑很久\n",
    "word=[]\n",
    "count=[]\n",
    "for i in range(100):\n",
    "    x, y = items[i]\n",
    "    word.append(x)\n",
    "    count.append(y)\n",
    "    index=range(100)\n",
    "    print (\"{:<10}{:>7}\".format(x, y, linestyle=\". -\") )\n",
    "plt.plot(index,count) #畫線\n",
    "plt.xlabel('No.') # 設定x軸標題\n",
    "plt.ylabel('Occurrences') # 設定y軸標題\n",
    "plt.title('The frequency of words') # 設定圖表標題\n",
    "plt.show()"
   ]
  },
  {
   "cell_type": "markdown",
   "metadata": {},
   "source": [
    "## TF-IDF"
   ]
  },
  {
   "cell_type": "code",
   "execution_count": null,
   "metadata": {},
   "outputs": [],
   "source": [
    "import jieba\n",
    "import jieba.analyse\n",
    "content = open('hw1-dataset.txt', 'r', encoding='utf-8').read()\n",
    "jieba.analyse.set_stop_words(\"hw1-stopset.txt\")\n",
    "tags = jieba.analyse.extract_tags(content, topK=100)\n",
    "print(\",\".join(tags))"
   ]
  },
  {
   "cell_type": "code",
   "execution_count": null,
   "metadata": {},
   "outputs": [],
   "source": [
    "import jieba\n",
    "import jieba.analyse\n",
    "content = open('hw1-dataset.txt', 'r', encoding='utf-8').read()\n",
    "jieba.analyse.set_stop_words(\"hw1-stopset.txt\")\n",
    "tags = jieba.analyse.extract_tags(content, topK=100, withWeight=True)\n",
    "for tag in tags:\n",
    "    print(\"tag:%s\\t\\t weight:%f\"%(tag[0],tag[1]))"
   ]
  },
  {
   "cell_type": "code",
   "execution_count": null,
   "metadata": {},
   "outputs": [],
   "source": [
    "import matplotlib.pyplot as plt\n",
    "import numpy as np\n",
    "import jieba\n",
    "import jieba.analyse\n",
    "from optparse import OptionParser\n",
    "txt = open(\"hw1-dataset.txt\", encoding=\"utf-8\").read()  \n",
    "words  = jieba.lcut(txt)  \n",
    "counts = {}  \n",
    "tfidfj=jieba.analyse.extract_tags(txt, topK=100, withWeight=True, allowPOS=())\n",
    "z=[]\n",
    "for i in range(100):\n",
    "    z.append(tfidfj[i][1])"
   ]
  },
  {
   "cell_type": "code",
   "execution_count": null,
   "metadata": {},
   "outputs": [],
   "source": [
    "plt.plot(range(100),z)\n",
    "plt.show() #顯示繪製的圖形"
   ]
  },
  {
   "cell_type": "code",
   "execution_count": null,
   "metadata": {},
   "outputs": [],
   "source": []
  }
 ],
 "metadata": {
  "kernelspec": {
   "display_name": "Python 3",
   "language": "python",
   "name": "python3"
  },
  "language_info": {
   "codemirror_mode": {
    "name": "ipython",
    "version": 3
   },
   "file_extension": ".py",
   "mimetype": "text/x-python",
   "name": "python",
   "nbconvert_exporter": "python",
   "pygments_lexer": "ipython3",
   "version": "3.8.3"
  }
 },
 "nbformat": 4,
 "nbformat_minor": 4
}
