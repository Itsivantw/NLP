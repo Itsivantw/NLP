{
 "cells": [
  {
   "cell_type": "code",
   "execution_count": 1,
   "metadata": {},
   "outputs": [],
   "source": [
    "from sklearn.feature_extraction.text import TfidfTransformer \n",
    "from sklearn.feature_extraction.text import TfidfVectorizer\n",
    "from sklearn.feature_extraction.text import CountVectorizer\n",
    "import pandas as pd\n",
    "import math\n",
    "from sklearn.preprocessing import normalize"
   ]
  },
  {
   "cell_type": "code",
   "execution_count": 5,
   "metadata": {},
   "outputs": [
    {
     "ename": "IndexError",
     "evalue": "list index out of range",
     "output_type": "error",
     "traceback": [
      "\u001b[0;31m---------------------------------------------------------------------------\u001b[0m",
      "\u001b[0;31mIndexError\u001b[0m                                Traceback (most recent call last)",
      "\u001b[0;32m<ipython-input-5-e23a82118277>\u001b[0m in \u001b[0;36m<module>\u001b[0;34m\u001b[0m\n\u001b[1;32m      7\u001b[0m     \u001b[0;32mfor\u001b[0m \u001b[0mrow\u001b[0m \u001b[0;32min\u001b[0m \u001b[0mrows\u001b[0m\u001b[0;34m[\u001b[0m\u001b[0;36m1\u001b[0m\u001b[0;34m:\u001b[0m\u001b[0;36m6001\u001b[0m\u001b[0;34m]\u001b[0m \u001b[0;34m:\u001b[0m \u001b[0;31m#第一列後的資料\u001b[0m\u001b[0;34m\u001b[0m\u001b[0;34m\u001b[0m\u001b[0m\n\u001b[1;32m      8\u001b[0m         \u001b[0mname\u001b[0m\u001b[0;34m.\u001b[0m\u001b[0mappend\u001b[0m\u001b[0;34m(\u001b[0m\u001b[0mrow\u001b[0m\u001b[0;34m[\u001b[0m\u001b[0;36m1\u001b[0m\u001b[0;34m]\u001b[0m\u001b[0;34m)\u001b[0m\u001b[0;34m\u001b[0m\u001b[0;34m\u001b[0m\u001b[0m\n\u001b[0;32m----> 9\u001b[0;31m         \u001b[0mtext\u001b[0m \u001b[0;34m=\u001b[0m \u001b[0mrow\u001b[0m\u001b[0;34m[\u001b[0m\u001b[0;36m5\u001b[0m\u001b[0;34m]\u001b[0m\u001b[0;34m\u001b[0m\u001b[0;34m\u001b[0m\u001b[0m\n\u001b[0m\u001b[1;32m     10\u001b[0m         \u001b[0mjiebaText\u001b[0m \u001b[0;34m=\u001b[0m \u001b[0;34m' '\u001b[0m\u001b[0;34m.\u001b[0m\u001b[0mjoin\u001b[0m\u001b[0;34m(\u001b[0m\u001b[0mjieba\u001b[0m\u001b[0;34m.\u001b[0m\u001b[0mcut\u001b[0m\u001b[0;34m(\u001b[0m\u001b[0mtext\u001b[0m\u001b[0;34m,\u001b[0m \u001b[0mcut_all\u001b[0m\u001b[0;34m=\u001b[0m\u001b[0;32mFalse\u001b[0m\u001b[0;34m,\u001b[0m \u001b[0mHMM\u001b[0m\u001b[0;34m=\u001b[0m\u001b[0;32mTrue\u001b[0m\u001b[0;34m)\u001b[0m\u001b[0;34m)\u001b[0m\u001b[0;34m\u001b[0m\u001b[0;34m\u001b[0m\u001b[0m\n\u001b[1;32m     11\u001b[0m         \u001b[0mbriefIntro\u001b[0m\u001b[0;34m.\u001b[0m\u001b[0mappend\u001b[0m\u001b[0;34m(\u001b[0m\u001b[0mjiebaText\u001b[0m\u001b[0;34m)\u001b[0m\u001b[0;34m\u001b[0m\u001b[0;34m\u001b[0m\u001b[0m\n",
      "\u001b[0;31mIndexError\u001b[0m: list index out of range"
     ]
    }
   ],
   "source": [
    "import csv\n",
    "import jieba\n",
    "name = []\n",
    "briefIntro = []\n",
    "with open('./movie.csv',encoding='utf-8') as csvfile:\n",
    "    rows = list(csv.reader(csvfile)) #rows[0]為第0筆資料\n",
    "    for row in rows[1:6001] : #第一列後的資料\n",
    "        name.append(row[1])\n",
    "        text = row[5]\n",
    "        jiebaText = ' '.join(jieba.cut(text, cut_all=False, HMM=True))\n",
    "        briefIntro.append(jiebaText)"
   ]
  },
  {
   "cell_type": "code",
   "execution_count": null,
   "metadata": {},
   "outputs": [],
   "source": [
    "from sklearn.feature_extraction.text import CountVectorizer\n",
    "# step 1\n",
    "vectoerizer = CountVectorizer(min_df=1, max_df=1.0, token_pattern='\\\\b\\\\w+\\\\b')\n",
    "# step 2\n",
    "vectoerizer.fit(briefIntro)\n",
    "# step 3\n",
    "bag_of_words = vectoerizer.get_feature_names()\n",
    "\n",
    "#print(\"Bag of words:\")\n",
    "#print(bag_of_words)\n",
    "print(len(bag_of_words))"
   ]
  },
  {
   "cell_type": "code",
   "execution_count": null,
   "metadata": {},
   "outputs": [],
   "source": [
    "bagArr = []\n",
    "bagArr.append(bag_of_words)\n",
    "df = pd.DataFrame(bagArr)\n",
    "df.to_csv('bag_of_words.csv', encoding='utf_8_sig')\n",
    "\n",
    "# step 4\n",
    "X = vectoerizer.transform(briefIntro)\n",
    "#print(\"Vectorized corpus:\")\n",
    "#print(X.toarray())"
   ]
  },
  {
   "cell_type": "code",
   "execution_count": null,
   "metadata": {},
   "outputs": [],
   "source": [
    "from sklearn.feature_extraction.text import TfidfTransformer\n",
    "# step 1\n",
    "tfidf_transformer = TfidfTransformer()\n",
    "# step 2\n",
    "tfidf_transformer.fit(X.toarray())\n",
    "# step 4\n",
    "tfidf = tfidf_transformer.transform(X)\n",
    "arr = tfidf.toarray()"
   ]
  },
  {
   "cell_type": "code",
   "execution_count": null,
   "metadata": {},
   "outputs": [],
   "source": [
    "arr1 = arr[0:1500].tolist()"
   ]
  },
  {
   "cell_type": "code",
   "execution_count": null,
   "metadata": {},
   "outputs": [],
   "source": [
    "arr2 = arr[1500:3000].tolist()"
   ]
  },
  {
   "cell_type": "code",
   "execution_count": null,
   "metadata": {},
   "outputs": [],
   "source": [
    "arr3 = arr[3000:4500].tolist()"
   ]
  },
  {
   "cell_type": "code",
   "execution_count": null,
   "metadata": {},
   "outputs": [],
   "source": [
    "arr4 = arr[4500:6001].tolist()"
   ]
  },
  {
   "cell_type": "code",
   "execution_count": null,
   "metadata": {},
   "outputs": [],
   "source": [
    "allArr = []\n",
    "allArr = allArr + bagArr + arr1 + arr2 + arr3 + arr4"
   ]
  },
  {
   "cell_type": "code",
   "execution_count": null,
   "metadata": {},
   "outputs": [],
   "source": [
    "import pandas as pd\n",
    "\n",
    "df = pd.DataFrame(allArr)\n",
    "df.to_csv('arr.csv', encoding='utf_8_sig')"
   ]
  },
  {
   "cell_type": "code",
   "execution_count": null,
   "metadata": {},
   "outputs": [],
   "source": [
    "from sklearn.neighbors import KNeighborsClassifier\n",
    "import pandas as pd\n",
    "import numpy as np\n",
    "import matplotlib.pyplot as plt\n",
    "from sklearn import datasets\n",
    "from sklearn.model_selection import train_test_split\n",
    "from sklearn import metrics"
   ]
  },
  {
   "cell_type": "code",
   "execution_count": null,
   "metadata": {},
   "outputs": [],
   "source": [
    "import csv\n",
    "data = []\n",
    "target = []\n",
    "with open('./arr.csv', encoding='utf-8') as csvfile:\n",
    "    rows = list(csv.reader(csvfile))\n",
    "    for row in rows[2:6002]:\n",
    "        data.append(row[0:5])"
   ]
  },
  {
   "cell_type": "code",
   "execution_count": null,
   "metadata": {},
   "outputs": [],
   "source": [
    "floatData = []        \n",
    "for i in data:\n",
    "    tempFloatData = []\n",
    "    for x in i :\n",
    "        tempFloatData.append(float(x))\n",
    "    floatData.append(tempFloatData)"
   ]
  },
  {
   "cell_type": "code",
   "execution_count": null,
   "metadata": {},
   "outputs": [],
   "source": [
    "with open('./movies.csv', encoding='utf-8') as csvfile:\n",
    "    rows = list(csv.reader(csvfile))\n",
    "    for row in rows[1:6001]:\n",
    "        level = row[3][:2]\n",
    "        if level == '犯罪':\n",
    "            level = 0\n",
    "        elif level == '奇幻':\n",
    "            level = 1\n",
    "        elif level == '冒險':\n",
    "            level = 2\n",
    "        elif level == '科幻':\n",
    "            level = 3           \n",
    "        elif level == '紀錄':\n",
    "            level = 4           \n",
    "        elif level == '音樂':\n",
    "            level = 5            \n",
    "        elif level == '恐怖':\n",
    "            level = 6            \n",
    "        elif level == '動作':\n",
    "            level = 7\n",
    "        elif level == '動畫':\n",
    "            level = 8            \n",
    "        elif level == '喜劇':\n",
    "            level = 9            \n",
    "        elif level == '愛情':\n",
    "            level = 10           \n",
    "        elif level == '溫馨':\n",
    "            level = 11            \n",
    "        elif level == '劇情':\n",
    "            level = 12            \n",
    "        elif level == '影展':\n",
    "            level = 13            \n",
    "        elif level == '戰爭':\n",
    "            level = 14\n",
    "        elif level == '歷史':\n",
    "            level = 15            \n",
    "        elif level == '勵志':\n",
    "            level = 16            \n",
    "        elif level == '懸疑':\n",
    "            level = 17      \n",
    "        target.append(level)"
   ]
  },
  {
   "cell_type": "code",
   "execution_count": null,
   "metadata": {},
   "outputs": [],
   "source": [
    "X=floatData\n",
    "y=target"
   ]
  },
  {
   "cell_type": "code",
   "execution_count": null,
   "metadata": {},
   "outputs": [],
   "source": [
    "X_train, X_test, y_train, y_test = train_test_split(X, y,test_size=0.001,random_state=1)"
   ]
  },
  {
   "cell_type": "code",
   "execution_count": null,
   "metadata": {},
   "outputs": [],
   "source": [
    "#n_neighbors=k\n",
    "#p=2 歐基里德距離\n",
    "#algorithm: 'auto'/'brute'/'kd_tree'/'ball_tree'\n",
    "clf=KNeighborsClassifier(n_neighbors=7,p=2,weights='distance',algorithm='brute')\n",
    "clf.fit(X_train,y_train)"
   ]
  },
  {
   "cell_type": "code",
   "execution_count": null,
   "metadata": {},
   "outputs": [],
   "source": [
    "#準確率\n",
    "clf.score(X_test,y_test)"
   ]
  }
 ],
 "metadata": {
  "kernelspec": {
   "display_name": "Python 3",
   "language": "python",
   "name": "python3"
  },
  "language_info": {
   "codemirror_mode": {
    "name": "ipython",
    "version": 3
   },
   "file_extension": ".py",
   "mimetype": "text/x-python",
   "name": "python",
   "nbconvert_exporter": "python",
   "pygments_lexer": "ipython3",
   "version": "3.8.3"
  }
 },
 "nbformat": 4,
 "nbformat_minor": 4
}
