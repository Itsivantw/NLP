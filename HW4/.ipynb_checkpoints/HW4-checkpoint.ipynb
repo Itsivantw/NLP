{
 "cells": [
  {
   "cell_type": "code",
   "execution_count": null,
   "metadata": {
    "scrolled": true
   },
   "outputs": [
    {
     "name": "stdout",
     "output_type": "stream",
     "text": [
      "0-0\n",
      "0-1\n",
      "0-2\n",
      "0-3\n"
     ]
    }
   ],
   "source": [
    "import json\n",
    "from opencc import OpenCC\n",
    "cc = OpenCC('s2t')\n",
    "texts = []\n",
    "for FP in range(4):\n",
    "    foldName = ''\n",
    "    if FP == 0:\n",
    "        foldName = 'AA'\n",
    "    elif FP == 1:\n",
    "        foldName = 'AB'\n",
    "    elif FP == 2:\n",
    "        foldName = 'AC'\n",
    "    elif FP == 3:\n",
    "        foldName = 'AD'        \n",
    "        \n",
    "    for i in range(100):\n",
    "        fileName = ''\n",
    "        if i < 10:\n",
    "            fileName = './'+ foldName +'/wiki_0'+str(i)\n",
    "        else:\n",
    "            fileName = './'+ foldName +'/wiki_'+str(i)\n",
    "        print(str(FP) + \"-\" + str(i))\n",
    "\n",
    "\n",
    "        file = open(fileName, 'r', encoding='utf-8')\n",
    "        dataR = []\n",
    "        for line in file.readlines():\n",
    "            dataLine = json.loads(line)\n",
    "            dataR.append(dataLine)\n",
    "\n",
    "        for data in dataR:\n",
    "            texts.append(cc.convert(data['text']))"
   ]
  },
  {
   "cell_type": "code",
   "execution_count": null,
   "metadata": {},
   "outputs": [],
   "source": [
    "path = 'output1.txt'\n",
    "f = open(path, 'w', encoding='utf-8')\n",
    "for x in texts:\n",
    "    f.write(x)"
   ]
  },
  {
   "cell_type": "code",
   "execution_count": null,
   "metadata": {},
   "outputs": [],
   "source": [
    "f.close()"
   ]
  },
  {
   "cell_type": "code",
   "execution_count": null,
   "metadata": {},
   "outputs": [],
   "source": [
    "\n",
    "for FP in range(4):\n",
    "    foldName = ''\n",
    "    if FP == 0:\n",
    "        foldName = 'AE'\n",
    "    elif FP == 1:\n",
    "        foldName = 'AF'\n",
    "    elif FP == 2:\n",
    "        foldName = 'AG'\n",
    "    elif FP == 3:\n",
    "        foldName = 'AH'        \n",
    "        \n",
    "    for i in range(100):\n",
    "        fileName = ''\n",
    "        if i < 10:\n",
    "            fileName = './'+ foldName +'/wiki_0'+str(i)\n",
    "        else:\n",
    "            fileName = './'+ foldName +'/wiki_'+str(i)\n",
    "        print(str(FP) + \"-\" + str(i))\n",
    "\n",
    "        file = open(fileName, 'r', encoding='utf-8')\n",
    "        dataR = []\n",
    "        for line in file.readlines():\n",
    "            dataLine = json.loads(line)\n",
    "            dataR.append(dataLine)\n",
    "\n",
    "        for data in dataR:\n",
    "            texts.append(cc.convert(data['text']))"
   ]
  },
  {
   "cell_type": "code",
   "execution_count": null,
   "metadata": {},
   "outputs": [],
   "source": [
    "path = 'output2.txt'\n",
    "f = open(path, 'w', encoding='utf-8')\n",
    "for x in texts:\n",
    "    f.write(x)"
   ]
  },
  {
   "cell_type": "code",
   "execution_count": null,
   "metadata": {},
   "outputs": [],
   "source": [
    "f.close()"
   ]
  },
  {
   "cell_type": "code",
   "execution_count": null,
   "metadata": {},
   "outputs": [],
   "source": [
    "for FP in range(4):\n",
    "    foldName = ''\n",
    "    if FP == 0:\n",
    "        foldName = 'AI'\n",
    "    elif FP == 1:\n",
    "        foldName = 'AJ'\n",
    "    elif FP == 2:\n",
    "        foldName = 'AK'\n",
    "    elif FP == 3:\n",
    "        foldName = 'AL'        \n",
    "        \n",
    "    for i in range(100):\n",
    "        fileName = ''\n",
    "        if i < 10:\n",
    "            fileName = './'+ foldName +'/wiki_0'+str(i)\n",
    "        else:\n",
    "            fileName = './'+ foldName +'/wiki_'+str(i)\n",
    "        print(str(FP) + \"-\" + str(i))\n",
    "\n",
    "        file = open(fileName, 'r', encoding='utf-8')\n",
    "        dataR = []\n",
    "        for line in file.readlines():\n",
    "            dataLine = json.loads(line)\n",
    "            dataR.append(dataLine)\n",
    "\n",
    "        for data in dataR:\n",
    "            texts.append(cc.convert(data['text']))"
   ]
  },
  {
   "cell_type": "code",
   "execution_count": null,
   "metadata": {},
   "outputs": [],
   "source": [
    "foldName = 'AM'\n",
    "for i in range(74):\n",
    "        fileName = ''\n",
    "        if i < 10:\n",
    "            fileName = './'+ foldName +'/wiki_0'+str(i)\n",
    "        else:\n",
    "            fileName = './'+ foldName +'/wiki_'+str(i)\n",
    "        print(\"AM-\" + str(i))\n",
    "\n",
    "        file = open(fileName, 'r', encoding='utf-8')\n",
    "        dataR = []\n",
    "        for line in file.readlines():\n",
    "            dataLine = json.loads(line)\n",
    "            dataR.append(dataLine)\n",
    "\n",
    "        for data in dataR:\n",
    "            texts.append(cc.convert(data['text']))"
   ]
  },
  {
   "cell_type": "code",
   "execution_count": null,
   "metadata": {},
   "outputs": [],
   "source": [
    "path = 'output3.txt'\n",
    "f = open(path, 'w', encoding='utf-8')\n",
    "for x in texts:\n",
    "    f.write(x)"
   ]
  },
  {
   "cell_type": "code",
   "execution_count": null,
   "metadata": {},
   "outputs": [],
   "source": [
    "f.close()"
   ]
  },
  {
   "cell_type": "code",
   "execution_count": null,
   "metadata": {},
   "outputs": [],
   "source": []
  },
  {
   "cell_type": "code",
   "execution_count": null,
   "metadata": {},
   "outputs": [],
   "source": [
    "import pandas as pd\n",
    "df = pd.DataFrame(columns = ['Data'])\n",
    "df"
   ]
  },
  {
   "cell_type": "code",
   "execution_count": null,
   "metadata": {},
   "outputs": [],
   "source": [
    "df['Data'] = texts"
   ]
  },
  {
   "cell_type": "code",
   "execution_count": null,
   "metadata": {},
   "outputs": [],
   "source": [
    "df"
   ]
  },
  {
   "cell_type": "code",
   "execution_count": null,
   "metadata": {},
   "outputs": [],
   "source": [
    "import jieba\n",
    "cut=[]\n",
    "for text in texts:\n",
    "    text = text.replace(\"★\" , \"\").replace(\"\\r\\n\" , \"\").replace(\"！\",\"\").replace(\"《\",\"\").replace(\"》\",\"\").replace(\"，\",\"\").replace(\"/\",\"\").replace(\"（\",\"\").replace(\"）\",\"\").replace(\"\\n\",\"\").replace(\"?\",\"\").replace(\"「\",\"\").replace(\"」\",\"\").replace(\"(\",\"\").replace(\")\",\"\").replace(\"*\",\"\").replace(\";\",\"\").replace(\" \",\"\").replace(\"。\",\"\").replace(\"、\",\"\").replace(\"：\",\"\")\n",
    "    segs = jieba.cut(text, cut_all=False, HMM=True)\n",
    "    tC = []\n",
    "    for s in segs:\n",
    "        tC.append(s)\n",
    "    cut.append(tC)\n",
    "    del tC\n",
    "df['切'] = cut"
   ]
  },
  {
   "cell_type": "code",
   "execution_count": null,
   "metadata": {},
   "outputs": [],
   "source": [
    "from gensim.models.word2vec import Word2Vec\n",
    "# Settings\n",
    "seed = 666\n",
    "sg = 0\n",
    "window_size = 10\n",
    "vector_size = 100\n",
    "min_count = 1\n",
    "workers = 4\n",
    "epochs = 5\n",
    "batch_words = 10000\n",
    "\n",
    "train_data = cut\n",
    "model = Word2Vec(\n",
    "    train_data,\n",
    "    min_count=min_count,\n",
    "    vector_size=vector_size,\n",
    "    workers=workers,\n",
    "    epochs=epochs,\n",
    "    window=window_size,\n",
    "    sg=sg,\n",
    "    seed=seed,\n",
    "    batch_words=batch_words\n",
    ")\n",
    "\n",
    "model.save('word2vec.model')"
   ]
  },
  {
   "cell_type": "code",
   "execution_count": null,
   "metadata": {},
   "outputs": [],
   "source": [
    "def most_similar(w2v_model, words, topn=20):\n",
    "    similar_df = pd.DataFrame()\n",
    "    for word in words:\n",
    "        try:\n",
    "            similar_words = pd.DataFrame(w2v_model.wv.most_similar(word, topn=topn), columns=[word, 'cos'])\n",
    "            similar_df = pd.concat([similar_df, similar_words], axis=1)\n",
    "        except:\n",
    "            print(word, \"not found in Word2Vec model!\")\n",
    "    return similar_df"
   ]
  },
  {
   "cell_type": "code",
   "execution_count": null,
   "metadata": {},
   "outputs": [],
   "source": [
    "most_similar(model, ['文學'])"
   ]
  },
  {
   "cell_type": "code",
   "execution_count": null,
   "metadata": {},
   "outputs": [],
   "source": [
    "most_similar(model, ['知恩'])"
   ]
  },
  {
   "cell_type": "code",
   "execution_count": null,
   "metadata": {},
   "outputs": [],
   "source": [
    "most_similar(model, ['數學'])"
   ]
  },
  {
   "cell_type": "code",
   "execution_count": null,
   "metadata": {},
   "outputs": [],
   "source": [
    "df"
   ]
  }
 ],
 "metadata": {
  "kernelspec": {
   "display_name": "Python 3",
   "language": "python",
   "name": "python3"
  },
  "language_info": {
   "codemirror_mode": {
    "name": "ipython",
    "version": 3
   },
   "file_extension": ".py",
   "mimetype": "text/x-python",
   "name": "python",
   "nbconvert_exporter": "python",
   "pygments_lexer": "ipython3",
   "version": "3.8.3"
  }
 },
 "nbformat": 4,
 "nbformat_minor": 4
}
