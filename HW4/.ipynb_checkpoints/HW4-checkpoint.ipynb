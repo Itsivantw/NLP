{
 "cells": [
  {
   "cell_type": "code",
   "execution_count": 2,
   "metadata": {
    "scrolled": true
   },
   "outputs": [
    {
     "ename": "FileNotFoundError",
     "evalue": "[Errno 2] No such file or directory: './AA/wiki00'",
     "output_type": "error",
     "traceback": [
      "\u001b[0;31m---------------------------------------------------------------------------\u001b[0m",
      "\u001b[0;31mFileNotFoundError\u001b[0m                         Traceback (most recent call last)",
      "\u001b[0;32m<ipython-input-2-f554043df076>\u001b[0m in \u001b[0;36m<module>\u001b[0;34m\u001b[0m\n\u001b[1;32m     22\u001b[0m \u001b[0;34m\u001b[0m\u001b[0m\n\u001b[1;32m     23\u001b[0m \u001b[0;34m\u001b[0m\u001b[0m\n\u001b[0;32m---> 24\u001b[0;31m         \u001b[0mfile\u001b[0m \u001b[0;34m=\u001b[0m \u001b[0mopen\u001b[0m\u001b[0;34m(\u001b[0m\u001b[0mfileName\u001b[0m\u001b[0;34m,\u001b[0m \u001b[0;34m'r'\u001b[0m\u001b[0;34m,\u001b[0m \u001b[0mencoding\u001b[0m\u001b[0;34m=\u001b[0m\u001b[0;34m'utf-8'\u001b[0m\u001b[0;34m)\u001b[0m\u001b[0;34m\u001b[0m\u001b[0;34m\u001b[0m\u001b[0m\n\u001b[0m\u001b[1;32m     25\u001b[0m         \u001b[0mdataR\u001b[0m \u001b[0;34m=\u001b[0m \u001b[0;34m[\u001b[0m\u001b[0;34m]\u001b[0m\u001b[0;34m\u001b[0m\u001b[0;34m\u001b[0m\u001b[0m\n\u001b[1;32m     26\u001b[0m         \u001b[0;32mfor\u001b[0m \u001b[0mline\u001b[0m \u001b[0;32min\u001b[0m \u001b[0mfile\u001b[0m\u001b[0;34m.\u001b[0m\u001b[0mreadlines\u001b[0m\u001b[0;34m(\u001b[0m\u001b[0;34m)\u001b[0m\u001b[0;34m:\u001b[0m\u001b[0;34m\u001b[0m\u001b[0;34m\u001b[0m\u001b[0m\n",
      "\u001b[0;31mFileNotFoundError\u001b[0m: [Errno 2] No such file or directory: './AA/wiki00'"
     ]
    }
   ],
   "source": [
    "import json\n",
    "from opencc import OpenCC\n",
    "cc = OpenCC('s2t')\n",
    "texts = []\n",
    "for FP in range(4):\n",
    "    foldName = ''\n",
    "    if FP == 0:\n",
    "        foldName = 'AA'\n",
    "    elif FP == 1:\n",
    "        foldName = 'AB'\n",
    "    elif FP == 2:\n",
    "        foldName = 'AC'\n",
    "    elif FP == 3:\n",
    "        foldName = 'AD'\n",
    "\n",
    "    for i in range(99):\n",
    "        fileName = ''\n",
    "        if i < 10:\n",
    "            fileName = './'+ foldName +'/wiki_0'+str(i)\n",
    "        else:\n",
    "            fileName = './'+ foldName +'/wiki_'+str(i)\n",
    "\n",
    "\n",
    "        file = open(fileName, 'r', encoding='utf-8')\n",
    "        dataR = []\n",
    "        for line in file.readlines():\n",
    "            dataLine = json.loads(line)\n",
    "            dataR.append(dataLine)\n",
    "\n",
    "        for data in dataR:\n",
    "            texts.append(cc.convert(data['text']))\n",
    "            path = 'output1.txt'\n",
    "f = open(path, 'w', encoding='utf-8')\n",
    "for x in texts:\n",
    "    f.write(x)"
   ]
  },
  {
   "cell_type": "code",
   "execution_count": null,
   "metadata": {},
   "outputs": [],
   "source": []
  }
 ],
 "metadata": {
  "kernelspec": {
   "display_name": "Python 3",
   "language": "python",
   "name": "python3"
  },
  "language_info": {
   "codemirror_mode": {
    "name": "ipython",
    "version": 3
   },
   "file_extension": ".py",
   "mimetype": "text/x-python",
   "name": "python",
   "nbconvert_exporter": "python",
   "pygments_lexer": "ipython3",
   "version": "3.8.3"
  }
 },
 "nbformat": 4,
 "nbformat_minor": 4
}
