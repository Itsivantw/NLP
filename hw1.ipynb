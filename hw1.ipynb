{
 "cells": [
  {
   "cell_type": "code",
   "execution_count": null,
   "metadata": {
    "scrolled": true
   },
   "outputs": [
    {
     "name": "stderr",
     "output_type": "stream",
     "text": [
      "Building prefix dict from the default dictionary ...\n",
      "Loading model from cache /var/folders/k1/64vpfb157j3_w7pd2w8c61m80000gn/T/jieba.cache\n",
      "Loading model cost 0.589 seconds.\n",
      "Prefix dict has been built successfully.\n"
     ]
    }
   ],
   "source": [
    "import jieba\n",
    "import matplotlib as plt\n",
    "txt = open(\"hw1-dataset.txt\", encoding=\"utf-8\").read()  \n",
    "#加載停用詞表  \n",
    "stopwords = [line.strip() for line in open(\"hw1-stopset.txt\",encoding=\"utf-8\").readlines()]  \n",
    "words  = jieba.lcut(txt)  \n",
    "counts = {}  \n",
    "for word in words:  \n",
    "    #不在停用詞表中  \n",
    "    if word not in stopwords:  \n",
    "        #不統計字數爲一的詞  \n",
    "        if len(word) == 1:  \n",
    "            continue  \n",
    "        else:  \n",
    "            counts[word] = counts.get(word,0) + 1  \n",
    "items = list(counts.items())  \n",
    "items.sort(key=lambda x:x[1], reverse=True)"
   ]
  },
  {
   "cell_type": "code",
   "execution_count": null,
   "metadata": {},
   "outputs": [],
   "source": [
    "word=[]\n",
    "count=[]\n",
    "for i in range(100):\n",
    "    x, y = items[i]\n",
    "    word.append(x)\n",
    "    count.append(y)\n",
    "    index=range(100)\n",
    "    print (\"{:<10}{:>7}\".format(x, y, linestyle=\". -\") )\n",
    "plt.plot(index,count) #畫線\n",
    "plt.xlabel('No.') # 設定x軸標題\n",
    "plt.ylabel('Occurrences') # 設定y軸標題\n",
    "plt.title('The frequency of words') # 設定圖表標題\n",
    "plt.show()"
   ]
  },
  {
   "cell_type": "markdown",
   "metadata": {},
   "source": [
    "## TF-IDF"
   ]
  },
  {
   "cell_type": "code",
   "execution_count": null,
   "metadata": {},
   "outputs": [],
   "source": [
    "import jieba\n",
    "import jieba.analyse\n",
    "content = open('hw1-dataset.txt', 'r', encoding='utf-8').read()\n",
    "jieba.analyse.set_stop_words(\"hw1-stopset.txt\")\n",
    "tags = jieba.analyse.extract_tags(content, topK=100)\n",
    "print(\",\".join(tags))"
   ]
  },
  {
   "cell_type": "code",
   "execution_count": null,
   "metadata": {},
   "outputs": [],
   "source": [
    "import jieba\n",
    "import jieba.analyse\n",
    "content = open('hw1-dataset.txt', 'r', encoding='utf-8').read()\n",
    "jieba.analyse.set_stop_words(\"hw1-stopset.txt\")\n",
    "tags = jieba.analyse.extract_tags(content, topK=100, withWeight=True)\n",
    "for tag in tags:\n",
    "    print(\"tag:%s\\t\\t weight:%f\"%(tag[0],tag[1]))"
   ]
  },
  {
   "cell_type": "code",
   "execution_count": null,
   "metadata": {},
   "outputs": [],
   "source": [
    "import matplotlib.pyplot as plt\n",
    "import numpy as np\n",
    "import jieba\n",
    "import jieba.analyse\n",
    "from optparse import OptionParser\n",
    "txt = open(\"hw1-dataset.txt\", encoding=\"utf-8\").read()  \n",
    "words  = jieba.lcut(txt)  \n",
    "counts = {}  \n",
    "tfidfj=jieba.analyse.extract_tags(txt, topK=100, withWeight=True, allowPOS=())\n",
    "z=[]\n",
    "for i in range(100):\n",
    "    z.append(tfidfj[i][1])"
   ]
  },
  {
   "cell_type": "code",
   "execution_count": null,
   "metadata": {},
   "outputs": [],
   "source": [
    "plt.plot(range(100),z)\n",
    "plt.show() #顯示繪製的圖形"
   ]
  },
  {
   "cell_type": "code",
   "execution_count": null,
   "metadata": {},
   "outputs": [],
   "source": []
  }
 ],
 "metadata": {
  "kernelspec": {
   "display_name": "Python 3",
   "language": "python",
   "name": "python3"
  }
 },
 "nbformat": 4,
 "nbformat_minor": 4
}
