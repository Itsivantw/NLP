{
 "cells": [
  {
   "cell_type": "code",
   "execution_count": 1,
   "metadata": {
    "scrolled": true
   },
   "outputs": [
    {
     "name": "stderr",
     "output_type": "stream",
     "text": [
      "Building prefix dict from the default dictionary ...\n",
      "Loading model from cache /var/folders/k1/64vpfb157j3_w7pd2w8c61m80000gn/T/jieba.cache\n",
      "Loading model cost 0.589 seconds.\n",
      "Prefix dict has been built successfully.\n"
     ]
    }
   ],
   "source": [
    "import jieba\n",
    "import matplotlib as plt\n",
    "txt = open(\"hw1-dataset.txt\", encoding=\"utf-8\").read()  \n",
    "#加載停用詞表  \n",
    "stopwords = [line.strip() for line in open(\"hw1-stopset.txt\",encoding=\"utf-8\").readlines()]  \n",
    "words  = jieba.lcut(txt)  \n",
    "counts = {}  \n",
    "for word in words:  \n",
    "    #不在停用詞表中  \n",
    "    if word not in stopwords:  \n",
    "        #不統計字數爲一的詞  \n",
    "        if len(word) == 1:  \n",
    "            continue  \n",
    "        else:  \n",
    "            counts[word] = counts.get(word,0) + 1  \n",
    "items = list(counts.items())  \n",
    "items.sort(key=lambda x:x[1], reverse=True)"
   ]
  },
  {
   "cell_type": "code",
   "execution_count": 2,
   "metadata": {},
   "outputs": [
    {
     "name": "stdout",
     "output_type": "stream",
     "text": [
      "八卦          79119\n",
      "台灣          35851\n",
      "肥宅          21771\n",
      "真的          16890\n",
      "一個          10535\n",
      "中國          10230\n",
      "一堆          10098\n",
      "有人           9666\n",
      "女生           8630\n",
      "日本           8594\n",
      "到底           8471\n",
      "...          7547\n",
      "很多           7488\n",
      "喜歡           6782\n",
      "朋友           6303\n",
      "感覺           6147\n",
      "美國           5358\n",
      "不用           5230\n",
      "正妹           4833\n",
      "東西           4368\n",
      "台北           4288\n",
      "QQ           3990\n",
      "時間           3965\n",
      "妹妹           3812\n",
      "世界           3792\n",
      "沒人           3725\n",
      "發現           3559\n",
      "中國人          3554\n",
      "國家           3554\n",
      "不到           3494\n",
      "工作           3483\n",
      "男生           3323\n",
      "好吃           3320\n",
      "公司           3199\n",
      "老婆           3157\n",
      "女友           3146\n",
      "老師           2943\n",
      "大學           2937\n",
      "邊緣           2807\n",
      "南部           2744\n",
      "好像           2712\n",
      "遊戲           2690\n",
      "第一           2640\n",
      "手機           2595\n",
      "垃圾           2587\n",
      "一點           2587\n",
      "只能           2536\n",
      "別人           2533\n",
      "才能           2533\n",
      "10           2503\n",
      "小孩           2435\n",
      "還好           2394\n",
      "電影           2378\n",
      "新聞           2378\n",
      "還要           2375\n",
      "韓國           2370\n",
      "鄉民           2360\n",
      "XD           2285\n",
      "的掛           2237\n",
      "地方           2193\n",
      "..           2151\n",
      "有加           2112\n",
      "ptt          2110\n",
      "工具           2097\n",
      "英文           2085\n",
      "最強           2071\n",
      "警察           2067\n",
      "明天           2028\n",
      "不好           2026\n",
      "不想           2012\n",
      "多久           2006\n",
      "請問           1996\n",
      "結婚           1974\n",
      "機會           1967\n",
      "高中           1956\n",
      "上班           1956\n",
      "高雄           1948\n",
      "兩個           1947\n",
      "怎辦           1936\n",
      "搞頭           1933\n",
      "支持           1932\n",
      "畢業           1932\n",
      "學校           1917\n",
      "女森           1906\n",
      "人生           1898\n",
      "名字           1891\n",
      "那種           1883\n",
      "大概           1878\n",
      "不錯           1874\n",
      "記得           1873\n",
      "學生           1867\n",
      "算是           1843\n",
      "有什麼          1837\n",
      "人類           1826\n",
      "這是           1811\n",
      "PTT          1789\n",
      "還在           1771\n",
      "希望           1769\n",
      "代表           1768\n",
      "妹子           1756\n"
     ]
    },
    {
     "ename": "AttributeError",
     "evalue": "module 'matplotlib' has no attribute 'plot'",
     "output_type": "error",
     "traceback": [
      "\u001b[0;31m---------------------------------------------------------------------------\u001b[0m",
      "\u001b[0;31mAttributeError\u001b[0m                            Traceback (most recent call last)",
      "\u001b[0;32m<ipython-input-2-7e89bd00e295>\u001b[0m in \u001b[0;36m<module>\u001b[0;34m\u001b[0m\n\u001b[1;32m      7\u001b[0m     \u001b[0mindex\u001b[0m\u001b[0;34m=\u001b[0m\u001b[0mrange\u001b[0m\u001b[0;34m(\u001b[0m\u001b[0;36m100\u001b[0m\u001b[0;34m)\u001b[0m\u001b[0;34m\u001b[0m\u001b[0;34m\u001b[0m\u001b[0m\n\u001b[1;32m      8\u001b[0m     \u001b[0mprint\u001b[0m \u001b[0;34m(\u001b[0m\u001b[0;34m\"{:<10}{:>7}\"\u001b[0m\u001b[0;34m.\u001b[0m\u001b[0mformat\u001b[0m\u001b[0;34m(\u001b[0m\u001b[0mx\u001b[0m\u001b[0;34m,\u001b[0m \u001b[0my\u001b[0m\u001b[0;34m,\u001b[0m \u001b[0mlinestyle\u001b[0m\u001b[0;34m=\u001b[0m\u001b[0;34m\". -\"\u001b[0m\u001b[0;34m)\u001b[0m \u001b[0;34m)\u001b[0m\u001b[0;34m\u001b[0m\u001b[0;34m\u001b[0m\u001b[0m\n\u001b[0;32m----> 9\u001b[0;31m \u001b[0mplt\u001b[0m\u001b[0;34m.\u001b[0m\u001b[0mplot\u001b[0m\u001b[0;34m(\u001b[0m\u001b[0mindex\u001b[0m\u001b[0;34m,\u001b[0m\u001b[0mcount\u001b[0m\u001b[0;34m)\u001b[0m \u001b[0;31m#畫線\u001b[0m\u001b[0;34m\u001b[0m\u001b[0;34m\u001b[0m\u001b[0m\n\u001b[0m\u001b[1;32m     10\u001b[0m \u001b[0mplt\u001b[0m\u001b[0;34m.\u001b[0m\u001b[0mxlabel\u001b[0m\u001b[0;34m(\u001b[0m\u001b[0;34m'No.'\u001b[0m\u001b[0;34m)\u001b[0m \u001b[0;31m# 設定x軸標題\u001b[0m\u001b[0;34m\u001b[0m\u001b[0;34m\u001b[0m\u001b[0m\n\u001b[1;32m     11\u001b[0m \u001b[0mplt\u001b[0m\u001b[0;34m.\u001b[0m\u001b[0mylabel\u001b[0m\u001b[0;34m(\u001b[0m\u001b[0;34m'Occurrences'\u001b[0m\u001b[0;34m)\u001b[0m \u001b[0;31m# 設定y軸標題\u001b[0m\u001b[0;34m\u001b[0m\u001b[0;34m\u001b[0m\u001b[0m\n",
      "\u001b[0;31mAttributeError\u001b[0m: module 'matplotlib' has no attribute 'plot'"
     ]
    }
   ],
   "source": [
    "word=[]\n",
    "count=[]\n",
    "for i in range(100):\n",
    "    x, y = items[i]\n",
    "    word.append(x)\n",
    "    count.append(y)\n",
    "    index=range(100)\n",
    "    print (\"{:<10}{:>7}\".format(x, y, linestyle=\". -\") )\n",
    "plt.plot(index,count) #畫線\n",
    "plt.xlabel('No.') # 設定x軸標題\n",
    "plt.ylabel('Occurrences') # 設定y軸標題\n",
    "plt.title('The frequency of words') # 設定圖表標題\n",
    "plt.show()"
   ]
  },
  {
   "cell_type": "markdown",
   "metadata": {},
   "source": [
    "## TF-IDF"
   ]
  },
  {
   "cell_type": "code",
   "execution_count": 3,
   "metadata": {},
   "outputs": [
    {
     "name": "stdout",
     "output_type": "stream",
     "text": [
      "什麼,八卦,台灣,怎麼,肥宅,現在,不會,還是,是不是,一個,中國,這樣,怎樣,時候,一樣,真的,沒有,...,應該,可以,喜歡,因為,一堆,問題,感覺,哪個,女生,這麼,覺得,這種,美國,正妹,知道,其實,為何,還有,東西,比較,那麼,到底,有人,自己,QQ,時間,開始,這個,哪裡,不是,沒人,甚麼,出來,日本,那個,發現,中國人,國家,如果,不要,就是,他們,大家,朋友,很多,台北,已經,老師,大學,變成,邊緣,我們,結果,遊戲,不用,手機,一點,看到,多少,男生,別人,當然,10,女友,如何,還好,電影,新聞,還要,韓國,鄉民,起來,根本,XD,好吃,妹妹,的掛,不過,一直,..,ptt,最強\n"
     ]
    }
   ],
   "source": [
    "import jieba\n",
    "import jieba.analyse\n",
    "content = open('hw1-dataset.txt', 'r', encoding='utf-8').read()\n",
    "jieba.analyse.set_stop_words(\"hw1-stopset.txt\")\n",
    "tags = jieba.analyse.extract_tags(content, topK=100)\n",
    "print(\",\".join(tags))"
   ]
  },
  {
   "cell_type": "code",
   "execution_count": 4,
   "metadata": {},
   "outputs": [
    {
     "name": "stdout",
     "output_type": "stream",
     "text": [
      "tag:什麼\t\t weight:0.194645\n",
      "tag:八卦\t\t weight:0.194205\n",
      "tag:台灣\t\t weight:0.120814\n",
      "tag:怎麼\t\t weight:0.111867\n",
      "tag:肥宅\t\t weight:0.073366\n",
      "tag:現在\t\t weight:0.038009\n",
      "tag:不會\t\t weight:0.036230\n",
      "tag:還是\t\t weight:0.035684\n",
      "tag:是不是\t\t weight:0.035576\n",
      "tag:一個\t\t weight:0.035502\n",
      "tag:中國\t\t weight:0.034474\n",
      "tag:這樣\t\t weight:0.032590\n",
      "tag:怎樣\t\t weight:0.029861\n",
      "tag:時候\t\t weight:0.029675\n",
      "tag:一樣\t\t weight:0.028691\n",
      "tag:真的\t\t weight:0.026823\n",
      "tag:沒有\t\t weight:0.026100\n",
      "tag:...\t\t weight:0.025433\n",
      "tag:應該\t\t weight:0.023599\n",
      "tag:可以\t\t weight:0.022958\n",
      "tag:喜歡\t\t weight:0.022855\n",
      "tag:因為\t\t weight:0.022417\n",
      "tag:一堆\t\t weight:0.021680\n",
      "tag:問題\t\t weight:0.020816\n",
      "tag:感覺\t\t weight:0.020715\n",
      "tag:哪個\t\t weight:0.020644\n",
      "tag:女生\t\t weight:0.020555\n",
      "tag:這麼\t\t weight:0.019963\n",
      "tag:覺得\t\t weight:0.018625\n",
      "tag:這種\t\t weight:0.018245\n",
      "tag:美國\t\t weight:0.018056\n",
      "tag:正妹\t\t weight:0.016287\n",
      "tag:知道\t\t weight:0.015811\n",
      "tag:其實\t\t weight:0.015579\n",
      "tag:為何\t\t weight:0.015043\n",
      "tag:還有\t\t weight:0.014737\n",
      "tag:東西\t\t weight:0.014720\n",
      "tag:比較\t\t weight:0.014518\n",
      "tag:那麼\t\t weight:0.014369\n",
      "tag:到底\t\t weight:0.013856\n",
      "tag:有人\t\t weight:0.013675\n",
      "tag:自己\t\t weight:0.013466\n",
      "tag:QQ\t\t weight:0.013446\n",
      "tag:時間\t\t weight:0.013362\n",
      "tag:開始\t\t weight:0.013207\n",
      "tag:這個\t\t weight:0.012974\n",
      "tag:哪裡\t\t weight:0.012826\n",
      "tag:不是\t\t weight:0.012759\n",
      "tag:沒人\t\t weight:0.012553\n",
      "tag:甚麼\t\t weight:0.012469\n",
      "tag:出來\t\t weight:0.012320\n",
      "tag:日本\t\t weight:0.012128\n",
      "tag:那個\t\t weight:0.012054\n",
      "tag:發現\t\t weight:0.011993\n",
      "tag:中國人\t\t weight:0.011977\n",
      "tag:國家\t\t weight:0.011977\n",
      "tag:如果\t\t weight:0.011951\n",
      "tag:不要\t\t weight:0.011372\n",
      "tag:就是\t\t weight:0.011178\n",
      "tag:他們\t\t weight:0.010851\n",
      "tag:大家\t\t weight:0.010829\n",
      "tag:朋友\t\t weight:0.010389\n",
      "tag:很多\t\t weight:0.010255\n",
      "tag:台北\t\t weight:0.010090\n",
      "tag:已經\t\t weight:0.009972\n",
      "tag:老師\t\t weight:0.009918\n",
      "tag:大學\t\t weight:0.009897\n",
      "tag:變成\t\t weight:0.009695\n",
      "tag:邊緣\t\t weight:0.009459\n",
      "tag:我們\t\t weight:0.009389\n",
      "tag:結果\t\t weight:0.009389\n",
      "tag:遊戲\t\t weight:0.009065\n",
      "tag:不用\t\t weight:0.008859\n",
      "tag:手機\t\t weight:0.008745\n",
      "tag:一點\t\t weight:0.008718\n",
      "tag:看到\t\t weight:0.008671\n",
      "tag:多少\t\t weight:0.008670\n",
      "tag:男生\t\t weight:0.008552\n",
      "tag:別人\t\t weight:0.008536\n",
      "tag:當然\t\t weight:0.008482\n",
      "tag:10\t\t weight:0.008435\n",
      "tag:女友\t\t weight:0.008252\n",
      "tag:如何\t\t weight:0.008088\n",
      "tag:還好\t\t weight:0.008068\n",
      "tag:電影\t\t weight:0.008014\n",
      "tag:新聞\t\t weight:0.008014\n",
      "tag:還要\t\t weight:0.008003\n",
      "tag:韓國\t\t weight:0.007987\n",
      "tag:鄉民\t\t weight:0.007953\n",
      "tag:起來\t\t weight:0.007771\n",
      "tag:根本\t\t weight:0.007720\n",
      "tag:XD\t\t weight:0.007700\n",
      "tag:好吃\t\t weight:0.007579\n",
      "tag:妹妹\t\t weight:0.007550\n",
      "tag:的掛\t\t weight:0.007538\n",
      "tag:不過\t\t weight:0.007350\n",
      "tag:一直\t\t weight:0.007303\n",
      "tag:..\t\t weight:0.007249\n",
      "tag:ptt\t\t weight:0.007110\n",
      "tag:最強\t\t weight:0.006979\n"
     ]
    }
   ],
   "source": [
    "import jieba\n",
    "import jieba.analyse\n",
    "content = open('hw1-dataset.txt', 'r', encoding='utf-8').read()\n",
    "jieba.analyse.set_stop_words(\"hw1-stopset.txt\")\n",
    "tags = jieba.analyse.extract_tags(content, topK=100, withWeight=True)\n",
    "for tag in tags:\n",
    "    print(\"tag:%s\\t\\t weight:%f\"%(tag[0],tag[1]))"
   ]
  },
  {
   "cell_type": "code",
   "execution_count": 5,
   "metadata": {},
   "outputs": [],
   "source": [
    "import matplotlib.pyplot as plt\n",
    "import numpy as np\n",
    "import jieba\n",
    "import jieba.analyse\n",
    "from optparse import OptionParser\n",
    "txt = open(\"hw1-dataset.txt\", encoding=\"utf-8\").read()  \n",
    "words  = jieba.lcut(txt)  \n",
    "counts = {}  \n",
    "tfidfj=jieba.analyse.extract_tags(txt, topK=100, withWeight=True, allowPOS=())\n",
    "z=[]\n",
    "for i in range(100):\n",
    "    z.append(tfidfj[i][1])"
   ]
  },
  {
   "cell_type": "code",
   "execution_count": 6,
   "metadata": {},
   "outputs": [
    {
     "data": {
      "image/png": "[encoded data removed]",
      "text/plain": [
       "<Figure size 432x288 with 1 Axes>"
      ]
     },
     "metadata": {
      "needs_background": "light"
     },
     "output_type": "display_data"
    }
   ],
   "source": [
    "plt.plot(range(100),z)\n",
    "plt.show() #顯示繪製的圖形"
   ]
  },
  {
   "cell_type": "code",
   "execution_count": null,
   "metadata": {},
   "outputs": [],
   "source": []
  }
 ],
 "metadata": {
  "kernelspec": {
   "display_name": "Python 3",
   "language": "python",
   "name": "python3"
  },
  "language_info": {
   "codemirror_mode": {
    "name": "ipython",
    "version": 3
   },
   "file_extension": ".py",
   "mimetype": "text/x-python",
   "name": "python",
   "nbconvert_exporter": "python",
   "pygments_lexer": "ipython3",
   "version": "3.8.3"
  }
 },
 "nbformat": 4,
 "nbformat_minor": 4
}
